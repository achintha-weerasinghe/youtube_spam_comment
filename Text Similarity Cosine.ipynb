{
 "cells": [
  {
   "cell_type": "code",
   "execution_count": 20,
   "metadata": {},
   "outputs": [
    {
     "data": {
      "text/html": [
       "<div>\n",
       "<style scoped>\n",
       "    .dataframe tbody tr th:only-of-type {\n",
       "        vertical-align: middle;\n",
       "    }\n",
       "\n",
       "    .dataframe tbody tr th {\n",
       "        vertical-align: top;\n",
       "    }\n",
       "\n",
       "    .dataframe thead th {\n",
       "        text-align: right;\n",
       "    }\n",
       "</style>\n",
       "<table border=\"1\" class=\"dataframe\">\n",
       "  <thead>\n",
       "    <tr style=\"text-align: right;\">\n",
       "      <th></th>\n",
       "      <th>id</th>\n",
       "      <th>video_id</th>\n",
       "      <th>comment_id</th>\n",
       "      <th>text_display</th>\n",
       "      <th>text_original</th>\n",
       "      <th>is_spam</th>\n",
       "      <th>checked</th>\n",
       "    </tr>\n",
       "  </thead>\n",
       "  <tbody>\n",
       "    <tr>\n",
       "      <th>0</th>\n",
       "      <td>2</td>\n",
       "      <td>1z4ughaHFj4</td>\n",
       "      <td>UgyOqRur7XVuSZsC-uN4AaABAg</td>\n",
       "      <td>&lt;a href=\"https://youtu.be/9XHO4W7_4UI\"&gt;https:/...</td>\n",
       "      <td>https://youtu.be/9XHO4W7_4UI</td>\n",
       "      <td>1</td>\n",
       "      <td>1</td>\n",
       "    </tr>\n",
       "    <tr>\n",
       "      <th>11</th>\n",
       "      <td>34</td>\n",
       "      <td>1z4ughaHFj4</td>\n",
       "      <td>UgxqFuEF4dq-O-co29l4AaABAg</td>\n",
       "      <td>එ බන් උබලත් කැමතිද ගෙදට්ට වෙලාම ඔන්ලයින් සල්ලි...</td>\n",
       "      <td>එ බන් උබලත් කැමතිද ගෙදට්ට වෙලාම ඔන්ලයින් සල්ලි...</td>\n",
       "      <td>1</td>\n",
       "      <td>1</td>\n",
       "    </tr>\n",
       "    <tr>\n",
       "      <th>17</th>\n",
       "      <td>47</td>\n",
       "      <td>1z4ughaHFj4</td>\n",
       "      <td>UgyQK1eOsykUCv9M-vt4AaABAg</td>\n",
       "      <td>මේකෙ 8d audio එක ඕනෙනම් මේකට like කරන්න</td>\n",
       "      <td>මේකෙ 8d audio එක ඕනෙනම් මේකට like කරන්න</td>\n",
       "      <td>1</td>\n",
       "      <td>1</td>\n",
       "    </tr>\n",
       "    <tr>\n",
       "      <th>18</th>\n",
       "      <td>48</td>\n",
       "      <td>1z4ughaHFj4</td>\n",
       "      <td>UgwJTTbEBXvWaclbKzB4AaABAg</td>\n",
       "      <td>&lt;a href=\"https://gokano.com/ref/IBmbOvZSMRoJ0x...</td>\n",
       "      <td>https://gokano.com/ref/IBmbOvZSMRoJ0x9ZwAFQXIvM</td>\n",
       "      <td>1</td>\n",
       "      <td>1</td>\n",
       "    </tr>\n",
       "    <tr>\n",
       "      <th>22</th>\n",
       "      <td>56</td>\n",
       "      <td>1z4ughaHFj4</td>\n",
       "      <td>UgzUXOYNVxbGLLTjw5x4AaABAg</td>\n",
       "      <td>&lt;a href=\"https://youtu.be/aXrFxHE8s90\"&gt;https:/...</td>\n",
       "      <td>https://youtu.be/aXrFxHE8s90</td>\n",
       "      <td>1</td>\n",
       "      <td>1</td>\n",
       "    </tr>\n",
       "  </tbody>\n",
       "</table>\n",
       "</div>"
      ],
      "text/plain": [
       "    id     video_id                  comment_id  \\\n",
       "0    2  1z4ughaHFj4  UgyOqRur7XVuSZsC-uN4AaABAg   \n",
       "11  34  1z4ughaHFj4  UgxqFuEF4dq-O-co29l4AaABAg   \n",
       "17  47  1z4ughaHFj4  UgyQK1eOsykUCv9M-vt4AaABAg   \n",
       "18  48  1z4ughaHFj4  UgwJTTbEBXvWaclbKzB4AaABAg   \n",
       "22  56  1z4ughaHFj4  UgzUXOYNVxbGLLTjw5x4AaABAg   \n",
       "\n",
       "                                         text_display  \\\n",
       "0   <a href=\"https://youtu.be/9XHO4W7_4UI\">https:/...   \n",
       "11  එ බන් උබලත් කැමතිද ගෙදට්ට වෙලාම ඔන්ලයින් සල්ලි...   \n",
       "17            මේකෙ 8d audio එක ඕනෙනම් මේකට like කරන්න   \n",
       "18  <a href=\"https://gokano.com/ref/IBmbOvZSMRoJ0x...   \n",
       "22  <a href=\"https://youtu.be/aXrFxHE8s90\">https:/...   \n",
       "\n",
       "                                        text_original  is_spam  checked  \n",
       "0                        https://youtu.be/9XHO4W7_4UI        1        1  \n",
       "11  එ බන් උබලත් කැමතිද ගෙදට්ට වෙලාම ඔන්ලයින් සල්ලි...        1        1  \n",
       "17            මේකෙ 8d audio එක ඕනෙනම් මේකට like කරන්න        1        1  \n",
       "18    https://gokano.com/ref/IBmbOvZSMRoJ0x9ZwAFQXIvM        1        1  \n",
       "22                       https://youtu.be/aXrFxHE8s90        1        1  "
      ]
     },
     "execution_count": 20,
     "metadata": {},
     "output_type": "execute_result"
    }
   ],
   "source": [
    "import nltk\n",
    "import pandas as pd\n",
    "import numpy as np\n",
    "from sklearn.feature_extraction.text import CountVectorizer\n",
    "\n",
    "df = pd.read_csv('youtube-comments.csv')\n",
    "df[df.is_spam==1].head()"
   ]
  },
  {
   "cell_type": "code",
   "execution_count": 37,
   "metadata": {},
   "outputs": [
    {
     "data": {
      "text/plain": [
       "[array(['අහනව', 'එක', 'තරය', 'බන', 'බලන', 'ලස', 'සන'], dtype='<U24')]"
      ]
     },
     "execution_count": 37,
     "metadata": {},
     "output_type": "execute_result"
    }
   ],
   "source": [
    "cv = CountVectorizer()\n",
    "df['text_original'] = df['text_original'].astype(str)\n",
    "vect = cv.fit_transform(df['text_original'])\n",
    "a = vect.toarray()\n",
    "\n",
    "cv.inverse_transform(a[1])"
   ]
  }
 ],
 "metadata": {
  "kernelspec": {
   "display_name": "Python 3",
   "language": "python",
   "name": "python3"
  },
  "language_info": {
   "codemirror_mode": {
    "name": "ipython",
    "version": 3
   },
   "file_extension": ".py",
   "mimetype": "text/x-python",
   "name": "python",
   "nbconvert_exporter": "python",
   "pygments_lexer": "ipython3",
   "version": "3.7.3"
  }
 },
 "nbformat": 4,
 "nbformat_minor": 2
}
