{
 "cells": [
  {
   "cell_type": "code",
   "execution_count": 60,
   "metadata": {},
   "outputs": [
    {
     "data": {
      "text/plain": [
       "0.3333333333333333"
      ]
     },
     "execution_count": 60,
     "metadata": {},
     "output_type": "execute_result"
    }
   ],
   "source": [
    "import nltk\n",
    "\n",
    "text1 = \"බල්ලා පූසා මීයා හාවා\"\n",
    "text2 = \"බල්ලා හාවා ලේනා ගවයා\"\n",
    "\n",
    "tkns1 = set(nltk.tokenize.word_tokenize(text1))\n",
    "tkns2 = set(nltk.tokenize.word_tokenize(text2))\n",
    "\n",
    "intersection = len(tkns1.intersection(tkns2))\n",
    "union = len(tkns1) + len(tkns2) - intersection\n",
    "sim = intersection / union\n",
    "\n",
    "sim"
   ]
  },
  {
   "cell_type": "code",
   "execution_count": 54,
   "metadata": {},
   "outputs": [],
   "source": [
    "import pandas as pd\n",
    "import numpy as np\n",
    "from sklearn.feature_extraction.text import CountVectorizer\n",
    "from sklearn.model_selection import train_test_split\n",
    "from sklearn.naive_bayes import MultinomialNB\n",
    "\n",
    "df = pd.read_csv('youtube-comments.csv')\n",
    "\n",
    "df['jc_similarity'] = 0.0\n",
    "\n",
    "for index, row in df.iterrows():\n",
    "    total = 0\n",
    "    tkns1 = set(nltk.tokenize.word_tokenize(str(row['text_original'])))\n",
    "    for i, snt in df.iterrows():\n",
    "        if index == i:\n",
    "            continue\n",
    "        tkns2 = set(nltk.tokenize.word_tokenize(str(snt['text_original'])))\n",
    "        intersection = len(tkns1.intersection(tkns2))\n",
    "        union = len(tkns1) + len(tkns2) - intersection\n",
    "        total = total + (intersection / union)\n",
    "    df.at[index, 'jc_similarity'] = total / (len(df) - 1)"
   ]
  },
  {
   "cell_type": "code",
   "execution_count": 58,
   "metadata": {},
   "outputs": [
    {
     "data": {
      "text/html": [
       "<div>\n",
       "<style scoped>\n",
       "    .dataframe tbody tr th:only-of-type {\n",
       "        vertical-align: middle;\n",
       "    }\n",
       "\n",
       "    .dataframe tbody tr th {\n",
       "        vertical-align: top;\n",
       "    }\n",
       "\n",
       "    .dataframe thead th {\n",
       "        text-align: right;\n",
       "    }\n",
       "</style>\n",
       "<table border=\"1\" class=\"dataframe\">\n",
       "  <thead>\n",
       "    <tr style=\"text-align: right;\">\n",
       "      <th></th>\n",
       "      <th>id</th>\n",
       "      <th>video_id</th>\n",
       "      <th>comment_id</th>\n",
       "      <th>text_display</th>\n",
       "      <th>text_original</th>\n",
       "      <th>is_spam</th>\n",
       "      <th>checked</th>\n",
       "      <th>jc_similarity</th>\n",
       "    </tr>\n",
       "  </thead>\n",
       "  <tbody>\n",
       "    <tr>\n",
       "      <th>8</th>\n",
       "      <td>25</td>\n",
       "      <td>1z4ughaHFj4</td>\n",
       "      <td>UgxWBfpQeGRX27iITiB4AaABAg</td>\n",
       "      <td>එලකිරි ????❤</td>\n",
       "      <td>එලකිරි ????❤</td>\n",
       "      <td>0</td>\n",
       "      <td>1</td>\n",
       "      <td>0.056478</td>\n",
       "    </tr>\n",
       "    <tr>\n",
       "      <th>15</th>\n",
       "      <td>40</td>\n",
       "      <td>1z4ughaHFj4</td>\n",
       "      <td>UgyvGmVWw4wU80HnYAt4AaABAg</td>\n",
       "      <td>ෆට්ට බං ????????????</td>\n",
       "      <td>ෆට්ට බං ????????????</td>\n",
       "      <td>0</td>\n",
       "      <td>1</td>\n",
       "      <td>0.059916</td>\n",
       "    </tr>\n",
       "    <tr>\n",
       "      <th>21</th>\n",
       "      <td>54</td>\n",
       "      <td>1z4ughaHFj4</td>\n",
       "      <td>UgycL6pcyP86VNsH3ct4AaABAg</td>\n",
       "      <td>බුවෑක්&lt;br /&gt;ජරාවක් ????</td>\n",
       "      <td>බුවෑක්\\nජරාවක් ????</td>\n",
       "      <td>0</td>\n",
       "      <td>1</td>\n",
       "      <td>0.055085</td>\n",
       "    </tr>\n",
       "    <tr>\n",
       "      <th>28</th>\n",
       "      <td>88</td>\n",
       "      <td>1z4ughaHFj4</td>\n",
       "      <td>Ugz1oRhaR6cO1L6id3p4AaABAg</td>\n",
       "      <td>තිවා ඒක පට්ට ????</td>\n",
       "      <td>තිවා ඒක පට්ට ????</td>\n",
       "      <td>0</td>\n",
       "      <td>1</td>\n",
       "      <td>0.066236</td>\n",
       "    </tr>\n",
       "    <tr>\n",
       "      <th>29</th>\n",
       "      <td>90</td>\n",
       "      <td>1z4ughaHFj4</td>\n",
       "      <td>UgwFEfOnmaq0fKhQncd4AaABAg</td>\n",
       "      <td>හැමදාම තිවා අයියා  best...????</td>\n",
       "      <td>හැමදාම තිවා අයියා  best...????</td>\n",
       "      <td>0</td>\n",
       "      <td>1</td>\n",
       "      <td>0.064316</td>\n",
       "    </tr>\n",
       "  </tbody>\n",
       "</table>\n",
       "</div>"
      ],
      "text/plain": [
       "    id     video_id                  comment_id  \\\n",
       "8   25  1z4ughaHFj4  UgxWBfpQeGRX27iITiB4AaABAg   \n",
       "15  40  1z4ughaHFj4  UgyvGmVWw4wU80HnYAt4AaABAg   \n",
       "21  54  1z4ughaHFj4  UgycL6pcyP86VNsH3ct4AaABAg   \n",
       "28  88  1z4ughaHFj4  Ugz1oRhaR6cO1L6id3p4AaABAg   \n",
       "29  90  1z4ughaHFj4  UgwFEfOnmaq0fKhQncd4AaABAg   \n",
       "\n",
       "                      text_display                   text_original  is_spam  \\\n",
       "8                     එලකිරි ????❤                    එලකිරි ????❤        0   \n",
       "15            ෆට්ට බං ????????????            ෆට්ට බං ????????????        0   \n",
       "21         බුවෑක්<br />ජරාවක් ????             බුවෑක්\\nජරාවක් ????        0   \n",
       "28               තිවා ඒක පට්ට ????               තිවා ඒක පට්ට ????        0   \n",
       "29  හැමදාම තිවා අයියා  best...????  හැමදාම තිවා අයියා  best...????        0   \n",
       "\n",
       "    checked  jc_similarity  \n",
       "8         1       0.056478  \n",
       "15        1       0.059916  \n",
       "21        1       0.055085  \n",
       "28        1       0.066236  \n",
       "29        1       0.064316  "
      ]
     },
     "execution_count": 58,
     "metadata": {},
     "output_type": "execute_result"
    }
   ],
   "source": [
    "df[df.jc_similarity > 0.05].head()"
   ]
  },
  {
   "cell_type": "code",
   "execution_count": 65,
   "metadata": {},
   "outputs": [],
   "source": [
    "import re\n",
    "\n",
    "df['has_link'] = 0\n",
    "df['has_subscribe'] = 0\n",
    "df['has_email'] = 0\n",
    "df['has_phone'] = 0\n",
    "\n",
    "word_list = ['subscribe', 'subcribe', 'subcrib', 'සබ්ස්']\n",
    "\n",
    "for index, row in df.iterrows():\n",
    "    if any(re.findall(r'http[s]?://(?:[a-zA-Z]|[0-9]|[$-_@.&+]|[!*\\(\\),]|(?:%[0-9a-fA-F][0-9a-fA-F]))+', str(row['text_original']))):\n",
    "        df.at[index, 'has_link'] = 1\n",
    "    \n",
    "    if any(re.findall(r'|'.join(word_list), str(row['text_original']), re.IGNORECASE)):\n",
    "        df.at[index, 'has_subscribe'] = 1\n",
    "        \n",
    "    if any(re.findall(r'(^[a-zA-Z0-9_.+-]+@[a-zA-Z0-9-]+\\.[a-zA-Z0-9-.]+)', str(row['text_original']))):\n",
    "        df.at[index, 'has_email'] = 1\n",
    "        \n",
    "    if any(re.findall(r'[0-9]{7,}', str(row['text_original']))):\n",
    "        df.at[index, 'has_phone'] = 1"
   ]
  },
  {
   "cell_type": "code",
   "execution_count": 67,
   "metadata": {},
   "outputs": [
    {
     "data": {
      "text/html": [
       "<div>\n",
       "<style scoped>\n",
       "    .dataframe tbody tr th:only-of-type {\n",
       "        vertical-align: middle;\n",
       "    }\n",
       "\n",
       "    .dataframe tbody tr th {\n",
       "        vertical-align: top;\n",
       "    }\n",
       "\n",
       "    .dataframe thead th {\n",
       "        text-align: right;\n",
       "    }\n",
       "</style>\n",
       "<table border=\"1\" class=\"dataframe\">\n",
       "  <thead>\n",
       "    <tr style=\"text-align: right;\">\n",
       "      <th></th>\n",
       "      <th>has_link</th>\n",
       "      <th>has_subscribe</th>\n",
       "      <th>has_email</th>\n",
       "      <th>has_phone</th>\n",
       "      <th>jc_similarity</th>\n",
       "    </tr>\n",
       "  </thead>\n",
       "  <tbody>\n",
       "    <tr>\n",
       "      <th>0</th>\n",
       "      <td>1</td>\n",
       "      <td>0</td>\n",
       "      <td>0</td>\n",
       "      <td>0</td>\n",
       "      <td>0.018546</td>\n",
       "    </tr>\n",
       "    <tr>\n",
       "      <th>1</th>\n",
       "      <td>0</td>\n",
       "      <td>0</td>\n",
       "      <td>0</td>\n",
       "      <td>0</td>\n",
       "      <td>0.020867</td>\n",
       "    </tr>\n",
       "    <tr>\n",
       "      <th>2</th>\n",
       "      <td>0</td>\n",
       "      <td>0</td>\n",
       "      <td>0</td>\n",
       "      <td>0</td>\n",
       "      <td>0.045850</td>\n",
       "    </tr>\n",
       "    <tr>\n",
       "      <th>3</th>\n",
       "      <td>0</td>\n",
       "      <td>0</td>\n",
       "      <td>0</td>\n",
       "      <td>0</td>\n",
       "      <td>0.016042</td>\n",
       "    </tr>\n",
       "    <tr>\n",
       "      <th>4</th>\n",
       "      <td>0</td>\n",
       "      <td>0</td>\n",
       "      <td>0</td>\n",
       "      <td>0</td>\n",
       "      <td>0.005234</td>\n",
       "    </tr>\n",
       "  </tbody>\n",
       "</table>\n",
       "</div>"
      ],
      "text/plain": [
       "   has_link  has_subscribe  has_email  has_phone  jc_similarity\n",
       "0         1              0          0          0       0.018546\n",
       "1         0              0          0          0       0.020867\n",
       "2         0              0          0          0       0.045850\n",
       "3         0              0          0          0       0.016042\n",
       "4         0              0          0          0       0.005234"
      ]
     },
     "execution_count": 67,
     "metadata": {},
     "output_type": "execute_result"
    }
   ],
   "source": [
    "X = df[['has_link', 'has_subscribe', 'has_email', 'has_phone', 'jc_similarity']]\n",
    "y = df['is_spam']\n",
    "X.head()"
   ]
  },
  {
   "cell_type": "code",
   "execution_count": 69,
   "metadata": {},
   "outputs": [
    {
     "data": {
      "text/plain": [
       "MultinomialNB(alpha=1.0, class_prior=None, fit_prior=True)"
      ]
     },
     "execution_count": 69,
     "metadata": {},
     "output_type": "execute_result"
    }
   ],
   "source": [
    "x_train, x_test, y_train, y_test = train_test_split(X, y, test_size=0.2, random_state=4)\n",
    "gnb = MultinomialNB()\n",
    "gnb.fit(x_train, y_train)"
   ]
  },
  {
   "cell_type": "code",
   "execution_count": 70,
   "metadata": {},
   "outputs": [
    {
     "data": {
      "text/plain": [
       "array([0, 0, 0, 0, 0, 0, 1, 0, 0, 0, 0, 0, 0, 0, 0, 0, 0, 0, 0, 1, 0, 0,\n",
       "       0, 0, 0, 0, 0, 0, 0, 0, 0, 0, 0, 0, 0, 0, 0, 0, 0, 0, 0, 0, 0, 0,\n",
       "       0, 0, 0, 0, 0, 0, 0, 0, 0, 0, 0, 0, 1, 0, 1, 0, 0, 0, 0, 1, 0, 0,\n",
       "       0, 0, 0, 0, 0, 0, 0, 0, 0, 0, 0, 0, 0, 0, 0, 0, 1, 0, 0, 0, 0, 0,\n",
       "       0, 0, 0, 0, 0, 0, 1, 0, 0, 0, 0, 0, 0, 0, 0, 0, 0, 0, 0, 0, 0, 0,\n",
       "       0, 0, 0, 1, 0, 0, 0, 0, 0, 0, 0, 0, 0, 0, 1, 0, 0, 0, 1, 0, 0, 0,\n",
       "       0, 0, 0, 0, 0, 0, 0, 0, 0, 0, 0, 0, 0, 0, 0, 0, 0, 0, 0, 0, 0, 0,\n",
       "       0, 0, 0, 0, 0, 0, 0, 0, 0, 0, 0, 0, 0, 1, 0, 0, 0, 0, 0, 0, 0, 0,\n",
       "       1, 0, 0], dtype=int64)"
      ]
     },
     "execution_count": 70,
     "metadata": {},
     "output_type": "execute_result"
    }
   ],
   "source": [
    "pred = gnb.predict(x_test)\n",
    "pred"
   ]
  }
 ],
 "metadata": {
  "kernelspec": {
   "display_name": "Python 3",
   "language": "python",
   "name": "python3"
  },
  "language_info": {
   "codemirror_mode": {
    "name": "ipython",
    "version": 3
   },
   "file_extension": ".py",
   "mimetype": "text/x-python",
   "name": "python",
   "nbconvert_exporter": "python",
   "pygments_lexer": "ipython3",
   "version": "3.7.3"
  }
 },
 "nbformat": 4,
 "nbformat_minor": 2
}
