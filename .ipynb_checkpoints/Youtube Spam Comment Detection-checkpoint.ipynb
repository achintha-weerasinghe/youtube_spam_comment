{
 "cells": [
  {
   "cell_type": "code",
   "execution_count": 38,
   "metadata": {},
   "outputs": [
    {
     "data": {
      "text/plain": [
       "(368, 7)"
      ]
     },
     "execution_count": 38,
     "metadata": {},
     "output_type": "execute_result"
    }
   ],
   "source": [
    "import pandas as pd\n",
    "import numpy as np\n",
    "from sklearn.feature_extraction.text import CountVectorizer\n",
    "from sklearn.model_selection import train_test_split\n",
    "from sklearn.naive_bayes import MultinomialNB\n",
    "\n",
    "df = pd.read_csv('youtube-comments.csv')\n",
    "df.shape"
   ]
  },
  {
   "cell_type": "code",
   "execution_count": 3,
   "metadata": {},
   "outputs": [
    {
     "data": {
      "text/html": [
       "<div>\n",
       "<style scoped>\n",
       "    .dataframe tbody tr th:only-of-type {\n",
       "        vertical-align: middle;\n",
       "    }\n",
       "\n",
       "    .dataframe tbody tr th {\n",
       "        vertical-align: top;\n",
       "    }\n",
       "\n",
       "    .dataframe thead th {\n",
       "        text-align: right;\n",
       "    }\n",
       "</style>\n",
       "<table border=\"1\" class=\"dataframe\">\n",
       "  <thead>\n",
       "    <tr style=\"text-align: right;\">\n",
       "      <th></th>\n",
       "      <th>id</th>\n",
       "      <th>video_id</th>\n",
       "      <th>comment_id</th>\n",
       "      <th>text_display</th>\n",
       "      <th>text_original</th>\n",
       "      <th>is_spam</th>\n",
       "      <th>checked</th>\n",
       "    </tr>\n",
       "  </thead>\n",
       "  <tbody>\n",
       "    <tr>\n",
       "      <th>0</th>\n",
       "      <td>2</td>\n",
       "      <td>1z4ughaHFj4</td>\n",
       "      <td>UgyOqRur7XVuSZsC-uN4AaABAg</td>\n",
       "      <td>&lt;a href=\"https://youtu.be/9XHO4W7_4UI\"&gt;https:/...</td>\n",
       "      <td>https://youtu.be/9XHO4W7_4UI</td>\n",
       "      <td>1</td>\n",
       "      <td>1</td>\n",
       "    </tr>\n",
       "    <tr>\n",
       "      <th>1</th>\n",
       "      <td>5</td>\n",
       "      <td>1z4ughaHFj4</td>\n",
       "      <td>UgwKDIi_qJwGP2U0rOx4AaABAg</td>\n",
       "      <td>ලස්සන්‍යි බන්...වීඩියො එක බලන්නෙ නෙ සින්දුව අහ...</td>\n",
       "      <td>ලස්සන්‍යි බන්...වීඩියො එක බලන්නෙ නෙ සින්දුව අහ...</td>\n",
       "      <td>0</td>\n",
       "      <td>1</td>\n",
       "    </tr>\n",
       "    <tr>\n",
       "      <th>2</th>\n",
       "      <td>6</td>\n",
       "      <td>1z4ughaHFj4</td>\n",
       "      <td>Ugyeu3pV4VglihhGiOh4AaABAg</td>\n",
       "      <td>????පව් කරලා වැඩක් නැ සිල් අරන්.....මම් යන්නම ...</td>\n",
       "      <td>????පව් කරලා වැඩක් නැ සිල් අරන්.....මම් යන්නම ...</td>\n",
       "      <td>0</td>\n",
       "      <td>1</td>\n",
       "    </tr>\n",
       "    <tr>\n",
       "      <th>3</th>\n",
       "      <td>14</td>\n",
       "      <td>1z4ughaHFj4</td>\n",
       "      <td>UgzhtHRdH0xJUVZ8pvp4AaABAg</td>\n",
       "      <td>රැල්ලට ගහගෙන යන්න එපා අයියේ. වෙනස් දෙයක් කරන්න...</td>\n",
       "      <td>රැල්ලට ගහගෙන යන්න එපා අයියේ. වෙනස් දෙයක් කරන්න...</td>\n",
       "      <td>0</td>\n",
       "      <td>1</td>\n",
       "    </tr>\n",
       "    <tr>\n",
       "      <th>4</th>\n",
       "      <td>20</td>\n",
       "      <td>1z4ughaHFj4</td>\n",
       "      <td>UgwMWsprBrAjYKlyF1x4AaABAg</td>\n",
       "      <td>වොයිස් එකට හදපන්කෝ හොද සිංදුවක්,, අඩන සිංදු නැ...</td>\n",
       "      <td>වොයිස් එකට හදපන්කෝ හොද සිංදුවක්,, අඩන සිංදු නැ...</td>\n",
       "      <td>0</td>\n",
       "      <td>1</td>\n",
       "    </tr>\n",
       "  </tbody>\n",
       "</table>\n",
       "</div>"
      ],
      "text/plain": [
       "   id     video_id                  comment_id  \\\n",
       "0   2  1z4ughaHFj4  UgyOqRur7XVuSZsC-uN4AaABAg   \n",
       "1   5  1z4ughaHFj4  UgwKDIi_qJwGP2U0rOx4AaABAg   \n",
       "2   6  1z4ughaHFj4  Ugyeu3pV4VglihhGiOh4AaABAg   \n",
       "3  14  1z4ughaHFj4  UgzhtHRdH0xJUVZ8pvp4AaABAg   \n",
       "4  20  1z4ughaHFj4  UgwMWsprBrAjYKlyF1x4AaABAg   \n",
       "\n",
       "                                        text_display  \\\n",
       "0  <a href=\"https://youtu.be/9XHO4W7_4UI\">https:/...   \n",
       "1  ලස්සන්‍යි බන්...වීඩියො එක බලන්නෙ නෙ සින්දුව අහ...   \n",
       "2  ????පව් කරලා වැඩක් නැ සිල් අරන්.....මම් යන්නම ...   \n",
       "3  රැල්ලට ගහගෙන යන්න එපා අයියේ. වෙනස් දෙයක් කරන්න...   \n",
       "4  වොයිස් එකට හදපන්කෝ හොද සිංදුවක්,, අඩන සිංදු නැ...   \n",
       "\n",
       "                                       text_original  is_spam  checked  \n",
       "0                       https://youtu.be/9XHO4W7_4UI        1        1  \n",
       "1  ලස්සන්‍යි බන්...වීඩියො එක බලන්නෙ නෙ සින්දුව අහ...        0        1  \n",
       "2  ????පව් කරලා වැඩක් නැ සිල් අරන්.....මම් යන්නම ...        0        1  \n",
       "3  රැල්ලට ගහගෙන යන්න එපා අයියේ. වෙනස් දෙයක් කරන්න...        0        1  \n",
       "4  වොයිස් එකට හදපන්කෝ හොද සිංදුවක්,, අඩන සිංදු නැ...        0        1  "
      ]
     },
     "execution_count": 3,
     "metadata": {},
     "output_type": "execute_result"
    }
   ],
   "source": [
    "df.head()"
   ]
  },
  {
   "cell_type": "code",
   "execution_count": 4,
   "metadata": {},
   "outputs": [
    {
     "data": {
      "text/plain": [
       "31"
      ]
     },
     "execution_count": 4,
     "metadata": {},
     "output_type": "execute_result"
    }
   ],
   "source": [
    "len(df[df.is_spam==1])"
   ]
  },
  {
   "cell_type": "code",
   "execution_count": 5,
   "metadata": {},
   "outputs": [
    {
     "data": {
      "text/plain": [
       "0                           https://youtu.be/9XHO4W7_4UI\n",
       "1      ලස්සන්‍යි බන්...වීඩියො එක බලන්නෙ නෙ සින්දුව අහ...\n",
       "2      ????පව් කරලා වැඩක් නැ සිල් අරන්.....මම් යන්නම ...\n",
       "3      රැල්ලට ගහගෙන යන්න එපා අයියේ. වෙනස් දෙයක් කරන්න...\n",
       "4      වොයිස් එකට හදපන්කෝ හොද සිංදුවක්,, අඩන සිංදු නැ...\n",
       "5      මොකද්ද බන් මේ???????? අඩනවනි බන්,, අඩනවටම ආස ඇ...\n",
       "6      අඩෝ තිවංකයා අපරාදෙ බං උබේ වොයිස් එක.මේ වගේ වාක...\n",
       "7                                    මෙලො රහක් නැ මට නම්\n",
       "8                                           එලකිරි ????❤\n",
       "9               \"පවු කරල වැඩක් නෑ සිල් අරං\".මොකද්ද බං ඒ.\n",
       "10     අඩන්නේ නැතුව අනිත් එක ගහපන්... නැත්තන් උබත් මල...\n",
       "11     එ බන් උබලත් කැමතිද ගෙදට්ට වෙලාම ඔන්ලයින් සල්ලි...\n",
       "12     තිවංකයා music viedeo එකට ..thusitha ටිං ටිං va...\n",
       "13     ඒකනම් දීලා තියෙනවා ඇඩෙන්නම සුපිරි තිවා.. සිංදු...\n",
       "14     තිවන්ක ..උබ දක්ශයෙක් ...උබේ අනන්‍යතාවය කවුරු ම...\n",
       "15                                  ෆට්ට බං ????????????\n",
       "16     හිරු star එකෙන් ආව singer කෙනෙක් කියපු සිංදුවක...\n",
       "17               මේකෙ 8d audio එක ඕනෙනම් මේකට like කරන්න\n",
       "18       https://gokano.com/ref/IBmbOvZSMRoJ0x9ZwAFQXIvM\n",
       "19                       මොකක්ද බං ⁣ඒ රචනාවක්ද????????✋✋\n",
       "20     තද තද මැනිකේ එනකම්මයි බලන් ඉදියේ වස්තෝ????????...\n",
       "21                                   බුවෑක්\\nජරාවක් ????\n",
       "22                          https://youtu.be/aXrFxHE8s90\n",
       "23                  https://rr.lovevova.com/MzI5MzEwMTc=\n",
       "24         නොදකින් අවසානය වෙනකම් බලන්න කියලා දානවනේ ????\n",
       "25     මම හීන දැකපු හැමදාම පෙනුණු සුදු මූණ ඔබගේ රත්තර...\n",
       "26     මගේ වීඩියෝ බලලා චැනල් එක හොදයි නම් මාවත් සබ්ස්...\n",
       "27                          Ela ela තිවංක ohma ymu kollo\n",
       "28                                     තිවා ඒක පට්ට ????\n",
       "29                        හැමදාම තිවා අයියා  best...????\n",
       "                             ...                        \n",
       "338                                      Maru maru අයියා\n",
       "339                                       හදවතේ ගායකයා❤️\n",
       "340                                         නියමයි මල්ලි\n",
       "341    ජය වේවා ...උබට සුභ අනාගතයක් තියෙනවා ...තිවා......\n",
       "342    කසුන් කල්හාර සනුකලා වගේ වටිනාකමෙන් වැඩි හදවතට ...\n",
       "343                     සින්දුව නම් ඉස්තරම් තිවා????????\n",
       "344         ඒකනම් පට්ට❤️❤️❤️ අන් ලයික් කලේ මොන පරයොද යකෝ\n",
       "345                                               තිවා❤️\n",
       "346    එදා ඉදන් උඹෙ වොයිස් එකට ආදරෙයි බන් ඉස්සරහටත් එ...\n",
       "347                            ඒක පට්ට❤️❤️❤️❤️♥️????????\n",
       "348    මේවට සිංදු කියන උන් ඉන්නව කියන්නෙ ඉතින් සිරිසේ...\n",
       "349    මම හීන දැකපු හැමදාම පෙනුනු සුදු මූණ ඔබගෙ රත්තර...\n",
       "350                                     චාටර් මෙලඩියක්..\n",
       "351                        පට්ට පට පට...????????????????\n",
       "352                          තිවා ආදරෙයී ...එල..❤️❤️????\n",
       "353    නොදකිං ඇඩියාවක්නේ උබෙන් ඔයිට වඩා බලාපොරොත්තුව උනා\n",
       "354               සුපිරි තිවංක අයියෙ   සින්දුව..????????\n",
       "355    කාගෙද මේ වචන ,ශ්‍රී ලංකා සංගීතය මේකද,මේ ගායකයා...\n",
       "356    මරණ බියෙන් ඌරෙක් බෙරිහන් දෙන්නෙත් මේ වගේ වෙන්න...\n",
       "357    පිලිවෙලක් ඇතුව ඉවරවෙන වීඩියෝ එකක් ගිඩ දවසකින් ...\n",
       "358                                          ෆට්ට කොල්ලො\n",
       "359    anee කොච්චර කල් බලන් හිටියද ඔයගෙන් song එකක් එ...\n",
       "360    විඩියෝ එක බලන ගමන් කමේන්ට්  බලන්න අපු අය ලයික්...\n",
       "361         ආදරේ  කියන්නේ  ....දුකක් මං දන්න තරමින්.....\n",
       "362    අම්මෝ කාලෙකට පස්සෙ අයියගෙ සින්දුවක් ඇහුවෙ.ගොඩක...\n",
       "363    මග බලන් හිටියේ බන් මේකක් එනකල් තද තද තිවා... ඉ...\n",
       "364      ela ela සහෝදරයා ආදරේයි ????????????????????????\n",
       "365      ela ela සහෝදරයා ආදරේයි ????????????????????????\n",
       "366                      අම්ම‍ෝ තිවා එක පට්ට????????????\n",
       "367                                             නියමයිනේ\n",
       "Name: text_original, Length: 368, dtype: object"
      ]
     },
     "execution_count": 5,
     "metadata": {},
     "output_type": "execute_result"
    }
   ],
   "source": [
    "X = df['text_original']\n",
    "y = df['is_spam']\n",
    "X"
   ]
  },
  {
   "cell_type": "code",
   "execution_count": 32,
   "metadata": {},
   "outputs": [
    {
     "data": {
      "text/plain": [
       "array([[0, 0, 0, ..., 0, 0, 0],\n",
       "       [0, 0, 0, ..., 0, 0, 0],\n",
       "       [0, 0, 0, ..., 0, 0, 0],\n",
       "       ...,\n",
       "       [0, 0, 0, ..., 0, 0, 0],\n",
       "       [0, 0, 0, ..., 0, 0, 0],\n",
       "       [0, 0, 0, ..., 0, 0, 0]], dtype=int64)"
      ]
     },
     "execution_count": 32,
     "metadata": {},
     "output_type": "execute_result"
    }
   ],
   "source": [
    "cv = CountVectorizer()\n",
    "x_train, x_test, y_train, y_test = train_test_split(X, y, test_size=0.2, random_state=4)\n",
    "x_train_vectorized = cv.fit_transform(x_train)\n",
    "a = x_train_vectorized.toarray()\n",
    "a"
   ]
  },
  {
   "cell_type": "code",
   "execution_count": 33,
   "metadata": {},
   "outputs": [
    {
     "data": {
      "text/plain": [
       "673"
      ]
     },
     "execution_count": 33,
     "metadata": {},
     "output_type": "execute_result"
    }
   ],
   "source": [
    "len(a[0])"
   ]
  },
  {
   "cell_type": "code",
   "execution_count": 23,
   "metadata": {},
   "outputs": [
    {
     "data": {
      "text/plain": [
       "array([0, 0, 0, 0, 0, 0, 0, 0, 0, 0, 0, 0, 0, 0, 0, 0, 0, 0, 0, 0, 0, 0,\n",
       "       0, 0, 0, 0, 0, 0, 0, 0, 0, 0, 0, 0, 0, 0, 0, 0, 0, 0, 0, 0, 0, 0,\n",
       "       0, 0, 0, 0, 0, 0, 0, 0, 0, 0, 0, 0, 1, 0, 0, 0, 0, 0, 0, 0, 0, 0,\n",
       "       0, 0, 0, 0, 0, 0, 0, 0, 0, 0, 0, 0, 0, 0, 0, 0, 0, 0, 0, 0, 0, 0,\n",
       "       0, 0, 0, 0, 0, 0, 0, 0, 0, 0, 0, 0, 0, 0, 0, 0, 0, 0, 0, 0, 0, 0,\n",
       "       0, 0, 0, 0, 0, 0, 0, 0, 0, 0, 0, 0, 0, 0, 0, 0, 0, 0, 0, 0, 0, 0,\n",
       "       0, 0, 0, 0, 0, 0, 0, 0, 0, 0, 0, 0, 0, 0, 0, 0, 0, 0, 0, 0, 0, 0,\n",
       "       0, 0, 0, 0, 0, 0, 0, 0, 0, 0, 0, 1, 0, 0, 0, 0, 0, 1, 0, 0, 0, 0,\n",
       "       0, 0, 0, 0, 0, 0, 0, 0, 0, 0, 0, 0, 0, 0, 0, 0, 0, 0, 0, 0, 0, 1,\n",
       "       0, 0, 0, 0, 0, 0, 0, 0, 0, 0, 0, 0, 0, 0, 0, 0, 0, 0, 0, 0, 0, 0,\n",
       "       0, 0, 0, 0, 0, 0, 0, 0, 0, 0, 0, 0, 0, 0, 1, 0, 0, 0, 0, 0, 1, 0,\n",
       "       0, 2, 0, 0, 0, 0, 0, 0, 0, 0, 0, 0, 0, 0, 0, 0, 0, 0, 0, 0, 0, 0,\n",
       "       0, 0, 1, 0, 0, 0, 0, 0, 0, 0, 0, 0, 0, 1, 0, 0, 0, 0, 0, 0, 0, 0,\n",
       "       0, 0, 0, 0, 0, 0, 0, 0, 0, 0, 0, 0, 0, 0, 0, 0, 0, 0, 0, 0, 0, 0,\n",
       "       0, 0, 0, 0, 0, 1, 0, 0, 0, 0, 0, 0, 0, 0, 0, 0, 0, 0, 0, 0, 0, 0,\n",
       "       0, 0, 0, 0, 0, 0, 0, 0, 0, 0, 0, 0, 0, 0, 0, 0, 0, 0, 0, 0, 0, 0,\n",
       "       0, 0, 0, 0, 0, 0, 0, 0, 0, 0, 0, 0, 0, 0, 0, 0, 0, 0, 0, 1, 0, 0,\n",
       "       0, 0, 0, 0, 0, 0, 0, 0, 0, 0, 0, 0, 0, 0, 0, 0, 0, 0, 0, 0, 0, 0,\n",
       "       1, 0, 0, 0, 0, 0, 0, 0, 0, 0, 0, 0, 0, 0, 0, 0, 0, 0, 0, 0, 0, 0,\n",
       "       0, 0, 0, 0, 0, 0, 0, 0, 0, 0, 0, 0, 0, 0, 0, 0, 0, 0, 0, 0, 0, 0,\n",
       "       0, 0, 0, 0, 0, 0, 0, 0, 0, 1, 0, 0, 0, 0, 0, 0, 0, 0, 0, 0, 0, 0,\n",
       "       0, 0, 0, 0, 0, 0, 0, 0, 0, 0, 0, 0, 0, 0, 0, 0, 0, 0, 0, 0, 0, 0,\n",
       "       0, 0, 0, 0, 0, 0, 0, 0, 0, 0, 0, 0, 0, 0, 0, 0, 0, 1, 0, 0, 0, 0,\n",
       "       0, 0, 0, 0, 0, 0, 0, 0, 0, 0, 0, 0, 0, 0, 0, 0, 1, 0, 0, 0, 0, 0,\n",
       "       0, 0, 1, 0, 0, 0, 0, 0, 0, 0, 0, 0, 0, 0, 0, 0, 0, 0, 0, 0, 0, 0,\n",
       "       0, 0, 0, 0, 0, 0, 0, 0, 0, 0, 0, 0, 0, 1, 0, 0, 0, 0, 0, 0, 0, 0,\n",
       "       0, 0, 0, 0, 0, 1, 0, 0, 0, 0, 0, 0, 0, 0, 0, 0, 0, 0, 0, 0, 0, 0,\n",
       "       0, 0, 0, 0, 0, 0, 0, 0, 0, 0, 0, 0, 1, 0, 0, 0, 0, 0, 0, 0, 0, 0,\n",
       "       0, 0, 0, 0, 0, 0, 0, 0, 0, 0, 0, 0, 0, 0, 0, 0, 0, 0, 0, 0, 0, 0,\n",
       "       0, 0, 0, 0, 0, 0, 0, 0, 0, 0, 0, 0, 0, 0, 0, 0, 0, 0, 0, 0, 0, 0,\n",
       "       0, 0, 0, 0, 0, 0, 0, 0, 0, 0, 0, 0, 0], dtype=int64)"
      ]
     },
     "execution_count": 23,
     "metadata": {},
     "output_type": "execute_result"
    }
   ],
   "source": [
    "a[3]"
   ]
  },
  {
   "cell_type": "code",
   "execution_count": 25,
   "metadata": {},
   "outputs": [
    {
     "data": {
      "text/plain": [
       "[array(['congratz', 'release', 'song', 'trending', 'අන', 'අම', 'අය', 'ආස',\n",
       "        'ඇහ', 'එක', 'කට', 'කරනකල', 'ඩක', 'නව', 'පස', 'බලන', 'යග', 'යය',\n",
       "        'වක'], dtype='<U15')]"
      ]
     },
     "execution_count": 25,
     "metadata": {},
     "output_type": "execute_result"
    }
   ],
   "source": [
    "cv.inverse_transform(a[3])"
   ]
  },
  {
   "cell_type": "code",
   "execution_count": 26,
   "metadata": {},
   "outputs": [
    {
     "data": {
      "text/plain": [
       "'අම්මෝ කාලෙකට පස්සෙ අයියගෙ සින්දුවක් ඇහුවෙ.ගොඩක් ආසාවෙන් බලන් හිටියෙ song එක release කරනකල්.අනිවාර්යයෙන්ම මේක trending වෙනවා.congratz අයියා...♥️♥️♥️'"
      ]
     },
     "execution_count": 26,
     "metadata": {},
     "output_type": "execute_result"
    }
   ],
   "source": [
    "x_train.iloc[3]"
   ]
  },
  {
   "cell_type": "code",
   "execution_count": 28,
   "metadata": {},
   "outputs": [
    {
     "data": {
      "text/plain": [
       "MultinomialNB(alpha=1.0, class_prior=None, fit_prior=True)"
      ]
     },
     "execution_count": 28,
     "metadata": {},
     "output_type": "execute_result"
    }
   ],
   "source": [
    "mnb = MultinomialNB()\n",
    "mnb.fit(x_train_vectorized, y_train)"
   ]
  },
  {
   "cell_type": "code",
   "execution_count": 31,
   "metadata": {},
   "outputs": [
    {
     "data": {
      "text/plain": [
       "<74x673 sparse matrix of type '<class 'numpy.int64'>'\n",
       "\twith 477 stored elements in Compressed Sparse Row format>"
      ]
     },
     "execution_count": 31,
     "metadata": {},
     "output_type": "execute_result"
    }
   ],
   "source": [
    "x_test_vectorized = cv.transform(x_test)\n",
    "x_test_vectorized"
   ]
  },
  {
   "cell_type": "code",
   "execution_count": 35,
   "metadata": {},
   "outputs": [
    {
     "data": {
      "text/plain": [
       "array([0, 0, 0, 0, 0, 0, 1, 0, 0, 0, 0, 0, 0, 0, 0, 0, 0, 0, 0, 0, 0, 0,\n",
       "       0, 0, 0, 0, 0, 0, 0, 0, 0, 1, 0, 0, 0, 0, 0, 0, 0, 0, 0, 0, 0, 0,\n",
       "       0, 0, 0, 0, 0, 0, 1, 0, 0, 0, 0, 1, 0, 0, 1, 0, 0, 0, 0, 0, 0, 0,\n",
       "       0, 0, 0, 0, 0, 1, 0, 1], dtype=int64)"
      ]
     },
     "execution_count": 35,
     "metadata": {},
     "output_type": "execute_result"
    }
   ],
   "source": [
    "pred = mnb.predict(x_test_vectorized)\n",
    "pred"
   ]
  },
  {
   "cell_type": "code",
   "execution_count": 36,
   "metadata": {},
   "outputs": [
    {
     "data": {
      "text/plain": [
       "74"
      ]
     },
     "execution_count": 36,
     "metadata": {},
     "output_type": "execute_result"
    }
   ],
   "source": [
    "len(pred)"
   ]
  },
  {
   "cell_type": "code",
   "execution_count": 40,
   "metadata": {},
   "outputs": [
    {
     "data": {
      "text/plain": [
       "array([0, 0, 0, 0, 0, 0, 1, 0, 0, 0, 0, 0, 0, 0, 1, 0, 0, 0, 0, 0, 0, 0,\n",
       "       0, 0, 0, 0, 1, 0, 0, 0, 0, 1, 0, 0, 0, 0, 0, 0, 0, 0, 0, 1, 0, 0,\n",
       "       0, 0, 0, 0, 0, 0, 1, 0, 0, 0, 0, 1, 0, 0, 1, 0, 0, 0, 0, 0, 0, 0,\n",
       "       0, 0, 1, 0, 0, 1, 0, 1], dtype=int64)"
      ]
     },
     "execution_count": 40,
     "metadata": {},
     "output_type": "execute_result"
    }
   ],
   "source": [
    "actual = np.array(y_test)\n",
    "actual"
   ]
  },
  {
   "cell_type": "code",
   "execution_count": 43,
   "metadata": {},
   "outputs": [
    {
     "data": {
      "text/plain": [
       "70"
      ]
     },
     "execution_count": 43,
     "metadata": {},
     "output_type": "execute_result"
    }
   ],
   "source": [
    "correct_guesses = 0;\n",
    "for i in range(0, len(pred)):\n",
    "    if actual[i] == pred[i]:\n",
    "        correct_guesses += 1\n",
    "\n",
    "correct_guesses"
   ]
  },
  {
   "cell_type": "code",
   "execution_count": 45,
   "metadata": {},
   "outputs": [
    {
     "data": {
      "text/plain": [
       "0.9459459459459459"
      ]
     },
     "execution_count": 45,
     "metadata": {},
     "output_type": "execute_result"
    }
   ],
   "source": [
    "accuracy = 70/74.0\n",
    "accuracy"
   ]
  }
 ],
 "metadata": {
  "kernelspec": {
   "display_name": "Python 3",
   "language": "python",
   "name": "python3"
  },
  "language_info": {
   "codemirror_mode": {
    "name": "ipython",
    "version": 3
   },
   "file_extension": ".py",
   "mimetype": "text/x-python",
   "name": "python",
   "nbconvert_exporter": "python",
   "pygments_lexer": "ipython3",
   "version": "3.7.3"
  }
 },
 "nbformat": 4,
 "nbformat_minor": 2
}
