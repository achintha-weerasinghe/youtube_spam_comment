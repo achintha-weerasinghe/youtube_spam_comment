{
 "cells": [
  {
   "cell_type": "code",
   "execution_count": 4,
   "metadata": {},
   "outputs": [
    {
     "data": {
      "text/plain": [
       "(892, 7)"
      ]
     },
     "execution_count": 4,
     "metadata": {},
     "output_type": "execute_result"
    }
   ],
   "source": [
    "import pandas as pd\n",
    "import numpy as np\n",
    "import re\n",
    "from sklearn.model_selection import train_test_split\n",
    "from sklearn.naive_bayes import GaussianNB\n",
    "from sklearn.metrics import accuracy_score, f1_score, precision_score, recall_score\n",
    "\n",
    "df = pd.read_csv('youtube-comments.csv')\n",
    "df.shape"
   ]
  },
  {
   "cell_type": "code",
   "execution_count": 5,
   "metadata": {},
   "outputs": [
    {
     "data": {
      "text/html": [
       "<div>\n",
       "<style scoped>\n",
       "    .dataframe tbody tr th:only-of-type {\n",
       "        vertical-align: middle;\n",
       "    }\n",
       "\n",
       "    .dataframe tbody tr th {\n",
       "        vertical-align: top;\n",
       "    }\n",
       "\n",
       "    .dataframe thead th {\n",
       "        text-align: right;\n",
       "    }\n",
       "</style>\n",
       "<table border=\"1\" class=\"dataframe\">\n",
       "  <thead>\n",
       "    <tr style=\"text-align: right;\">\n",
       "      <th></th>\n",
       "      <th>id</th>\n",
       "      <th>video_id</th>\n",
       "      <th>comment_id</th>\n",
       "      <th>text_display</th>\n",
       "      <th>text_original</th>\n",
       "      <th>is_spam</th>\n",
       "      <th>checked</th>\n",
       "    </tr>\n",
       "  </thead>\n",
       "  <tbody>\n",
       "    <tr>\n",
       "      <th>0</th>\n",
       "      <td>2</td>\n",
       "      <td>1z4ughaHFj4</td>\n",
       "      <td>UgyOqRur7XVuSZsC-uN4AaABAg</td>\n",
       "      <td>&lt;a href=\"https://youtu.be/9XHO4W7_4UI\"&gt;https:/...</td>\n",
       "      <td>https://youtu.be/9XHO4W7_4UI</td>\n",
       "      <td>1</td>\n",
       "      <td>1</td>\n",
       "    </tr>\n",
       "    <tr>\n",
       "      <th>1</th>\n",
       "      <td>5</td>\n",
       "      <td>1z4ughaHFj4</td>\n",
       "      <td>UgwKDIi_qJwGP2U0rOx4AaABAg</td>\n",
       "      <td>ලස්සන්‍යි බන්...වීඩියො එක බලන්නෙ නෙ සින්දුව අහ...</td>\n",
       "      <td>ලස්සන්‍යි බන්...වීඩියො එක බලන්නෙ නෙ සින්දුව අහ...</td>\n",
       "      <td>0</td>\n",
       "      <td>1</td>\n",
       "    </tr>\n",
       "    <tr>\n",
       "      <th>2</th>\n",
       "      <td>6</td>\n",
       "      <td>1z4ughaHFj4</td>\n",
       "      <td>Ugyeu3pV4VglihhGiOh4AaABAg</td>\n",
       "      <td>????පව් කරලා වැඩක් නැ සිල් අරන්.....මම් යන්නම ...</td>\n",
       "      <td>????පව් කරලා වැඩක් නැ සිල් අරන්.....මම් යන්නම ...</td>\n",
       "      <td>0</td>\n",
       "      <td>1</td>\n",
       "    </tr>\n",
       "    <tr>\n",
       "      <th>3</th>\n",
       "      <td>14</td>\n",
       "      <td>1z4ughaHFj4</td>\n",
       "      <td>UgzhtHRdH0xJUVZ8pvp4AaABAg</td>\n",
       "      <td>රැල්ලට ගහගෙන යන්න එපා අයියේ. වෙනස් දෙයක් කරන්න...</td>\n",
       "      <td>රැල්ලට ගහගෙන යන්න එපා අයියේ. වෙනස් දෙයක් කරන්න...</td>\n",
       "      <td>0</td>\n",
       "      <td>1</td>\n",
       "    </tr>\n",
       "    <tr>\n",
       "      <th>4</th>\n",
       "      <td>20</td>\n",
       "      <td>1z4ughaHFj4</td>\n",
       "      <td>UgwMWsprBrAjYKlyF1x4AaABAg</td>\n",
       "      <td>වොයිස් එකට හදපන්කෝ හොද සිංදුවක්,, අඩන සිංදු නැ...</td>\n",
       "      <td>වොයිස් එකට හදපන්කෝ හොද සිංදුවක්,, අඩන සිංදු නැ...</td>\n",
       "      <td>0</td>\n",
       "      <td>1</td>\n",
       "    </tr>\n",
       "  </tbody>\n",
       "</table>\n",
       "</div>"
      ],
      "text/plain": [
       "   id     video_id                  comment_id  \\\n",
       "0   2  1z4ughaHFj4  UgyOqRur7XVuSZsC-uN4AaABAg   \n",
       "1   5  1z4ughaHFj4  UgwKDIi_qJwGP2U0rOx4AaABAg   \n",
       "2   6  1z4ughaHFj4  Ugyeu3pV4VglihhGiOh4AaABAg   \n",
       "3  14  1z4ughaHFj4  UgzhtHRdH0xJUVZ8pvp4AaABAg   \n",
       "4  20  1z4ughaHFj4  UgwMWsprBrAjYKlyF1x4AaABAg   \n",
       "\n",
       "                                        text_display  \\\n",
       "0  <a href=\"https://youtu.be/9XHO4W7_4UI\">https:/...   \n",
       "1  ලස්සන්‍යි බන්...වීඩියො එක බලන්නෙ නෙ සින්දුව අහ...   \n",
       "2  ????පව් කරලා වැඩක් නැ සිල් අරන්.....මම් යන්නම ...   \n",
       "3  රැල්ලට ගහගෙන යන්න එපා අයියේ. වෙනස් දෙයක් කරන්න...   \n",
       "4  වොයිස් එකට හදපන්කෝ හොද සිංදුවක්,, අඩන සිංදු නැ...   \n",
       "\n",
       "                                       text_original  is_spam  checked  \n",
       "0                       https://youtu.be/9XHO4W7_4UI        1        1  \n",
       "1  ලස්සන්‍යි බන්...වීඩියො එක බලන්නෙ නෙ සින්දුව අහ...        0        1  \n",
       "2  ????පව් කරලා වැඩක් නැ සිල් අරන්.....මම් යන්නම ...        0        1  \n",
       "3  රැල්ලට ගහගෙන යන්න එපා අයියේ. වෙනස් දෙයක් කරන්න...        0        1  \n",
       "4  වොයිස් එකට හදපන්කෝ හොද සිංදුවක්,, අඩන සිංදු නැ...        0        1  "
      ]
     },
     "execution_count": 5,
     "metadata": {},
     "output_type": "execute_result"
    }
   ],
   "source": [
    "df.head()"
   ]
  },
  {
   "cell_type": "code",
   "execution_count": 6,
   "metadata": {},
   "outputs": [
    {
     "data": {
      "text/html": [
       "<div>\n",
       "<style scoped>\n",
       "    .dataframe tbody tr th:only-of-type {\n",
       "        vertical-align: middle;\n",
       "    }\n",
       "\n",
       "    .dataframe tbody tr th {\n",
       "        vertical-align: top;\n",
       "    }\n",
       "\n",
       "    .dataframe thead th {\n",
       "        text-align: right;\n",
       "    }\n",
       "</style>\n",
       "<table border=\"1\" class=\"dataframe\">\n",
       "  <thead>\n",
       "    <tr style=\"text-align: right;\">\n",
       "      <th></th>\n",
       "      <th>id</th>\n",
       "      <th>video_id</th>\n",
       "      <th>comment_id</th>\n",
       "      <th>text_display</th>\n",
       "      <th>text_original</th>\n",
       "      <th>is_spam</th>\n",
       "      <th>checked</th>\n",
       "      <th>has_link</th>\n",
       "      <th>has_subscribe</th>\n",
       "      <th>has_email</th>\n",
       "      <th>has_phone</th>\n",
       "    </tr>\n",
       "  </thead>\n",
       "  <tbody>\n",
       "    <tr>\n",
       "      <th>0</th>\n",
       "      <td>2</td>\n",
       "      <td>1z4ughaHFj4</td>\n",
       "      <td>UgyOqRur7XVuSZsC-uN4AaABAg</td>\n",
       "      <td>&lt;a href=\"https://youtu.be/9XHO4W7_4UI\"&gt;https:/...</td>\n",
       "      <td>https://youtu.be/9XHO4W7_4UI</td>\n",
       "      <td>1</td>\n",
       "      <td>1</td>\n",
       "      <td>1</td>\n",
       "      <td>0</td>\n",
       "      <td>0</td>\n",
       "      <td>0</td>\n",
       "    </tr>\n",
       "    <tr>\n",
       "      <th>1</th>\n",
       "      <td>5</td>\n",
       "      <td>1z4ughaHFj4</td>\n",
       "      <td>UgwKDIi_qJwGP2U0rOx4AaABAg</td>\n",
       "      <td>ලස්සන්‍යි බන්...වීඩියො එක බලන්නෙ නෙ සින්දුව අහ...</td>\n",
       "      <td>ලස්සන්‍යි බන්...වීඩියො එක බලන්නෙ නෙ සින්දුව අහ...</td>\n",
       "      <td>0</td>\n",
       "      <td>1</td>\n",
       "      <td>0</td>\n",
       "      <td>0</td>\n",
       "      <td>0</td>\n",
       "      <td>0</td>\n",
       "    </tr>\n",
       "    <tr>\n",
       "      <th>2</th>\n",
       "      <td>6</td>\n",
       "      <td>1z4ughaHFj4</td>\n",
       "      <td>Ugyeu3pV4VglihhGiOh4AaABAg</td>\n",
       "      <td>????පව් කරලා වැඩක් නැ සිල් අරන්.....මම් යන්නම ...</td>\n",
       "      <td>????පව් කරලා වැඩක් නැ සිල් අරන්.....මම් යන්නම ...</td>\n",
       "      <td>0</td>\n",
       "      <td>1</td>\n",
       "      <td>0</td>\n",
       "      <td>0</td>\n",
       "      <td>0</td>\n",
       "      <td>0</td>\n",
       "    </tr>\n",
       "    <tr>\n",
       "      <th>3</th>\n",
       "      <td>14</td>\n",
       "      <td>1z4ughaHFj4</td>\n",
       "      <td>UgzhtHRdH0xJUVZ8pvp4AaABAg</td>\n",
       "      <td>රැල්ලට ගහගෙන යන්න එපා අයියේ. වෙනස් දෙයක් කරන්න...</td>\n",
       "      <td>රැල්ලට ගහගෙන යන්න එපා අයියේ. වෙනස් දෙයක් කරන්න...</td>\n",
       "      <td>0</td>\n",
       "      <td>1</td>\n",
       "      <td>0</td>\n",
       "      <td>0</td>\n",
       "      <td>0</td>\n",
       "      <td>0</td>\n",
       "    </tr>\n",
       "    <tr>\n",
       "      <th>4</th>\n",
       "      <td>20</td>\n",
       "      <td>1z4ughaHFj4</td>\n",
       "      <td>UgwMWsprBrAjYKlyF1x4AaABAg</td>\n",
       "      <td>වොයිස් එකට හදපන්කෝ හොද සිංදුවක්,, අඩන සිංදු නැ...</td>\n",
       "      <td>වොයිස් එකට හදපන්කෝ හොද සිංදුවක්,, අඩන සිංදු නැ...</td>\n",
       "      <td>0</td>\n",
       "      <td>1</td>\n",
       "      <td>0</td>\n",
       "      <td>0</td>\n",
       "      <td>0</td>\n",
       "      <td>0</td>\n",
       "    </tr>\n",
       "  </tbody>\n",
       "</table>\n",
       "</div>"
      ],
      "text/plain": [
       "   id     video_id                  comment_id  \\\n",
       "0   2  1z4ughaHFj4  UgyOqRur7XVuSZsC-uN4AaABAg   \n",
       "1   5  1z4ughaHFj4  UgwKDIi_qJwGP2U0rOx4AaABAg   \n",
       "2   6  1z4ughaHFj4  Ugyeu3pV4VglihhGiOh4AaABAg   \n",
       "3  14  1z4ughaHFj4  UgzhtHRdH0xJUVZ8pvp4AaABAg   \n",
       "4  20  1z4ughaHFj4  UgwMWsprBrAjYKlyF1x4AaABAg   \n",
       "\n",
       "                                        text_display  \\\n",
       "0  <a href=\"https://youtu.be/9XHO4W7_4UI\">https:/...   \n",
       "1  ලස්සන්‍යි බන්...වීඩියො එක බලන්නෙ නෙ සින්දුව අහ...   \n",
       "2  ????පව් කරලා වැඩක් නැ සිල් අරන්.....මම් යන්නම ...   \n",
       "3  රැල්ලට ගහගෙන යන්න එපා අයියේ. වෙනස් දෙයක් කරන්න...   \n",
       "4  වොයිස් එකට හදපන්කෝ හොද සිංදුවක්,, අඩන සිංදු නැ...   \n",
       "\n",
       "                                       text_original  is_spam  checked  \\\n",
       "0                       https://youtu.be/9XHO4W7_4UI        1        1   \n",
       "1  ලස්සන්‍යි බන්...වීඩියො එක බලන්නෙ නෙ සින්දුව අහ...        0        1   \n",
       "2  ????පව් කරලා වැඩක් නැ සිල් අරන්.....මම් යන්නම ...        0        1   \n",
       "3  රැල්ලට ගහගෙන යන්න එපා අයියේ. වෙනස් දෙයක් කරන්න...        0        1   \n",
       "4  වොයිස් එකට හදපන්කෝ හොද සිංදුවක්,, අඩන සිංදු නැ...        0        1   \n",
       "\n",
       "   has_link  has_subscribe  has_email  has_phone  \n",
       "0         1              0          0          0  \n",
       "1         0              0          0          0  \n",
       "2         0              0          0          0  \n",
       "3         0              0          0          0  \n",
       "4         0              0          0          0  "
      ]
     },
     "execution_count": 6,
     "metadata": {},
     "output_type": "execute_result"
    }
   ],
   "source": [
    "df['has_link'] = 0\n",
    "df['has_subscribe'] = 0\n",
    "df['has_email'] = 0\n",
    "df['has_phone'] = 0\n",
    "\n",
    "word_list = ['subscribe', 'subcribe', 'subcrib', 'සබ්ස්']\n",
    "\n",
    "for index, row in df.iterrows():\n",
    "    if any(re.findall(r'http[s]?://(?:[a-zA-Z]|[0-9]|[$-_@.&+]|[!*\\(\\),]|(?:%[0-9a-fA-F][0-9a-fA-F]))+', str(row['text_original']))):\n",
    "        df.at[index, 'has_link'] = 1\n",
    "    \n",
    "    if any(re.findall(r'|'.join(word_list), str(row['text_original']), re.IGNORECASE)):\n",
    "        df.at[index, 'has_subscribe'] = 1\n",
    "        \n",
    "    if any(re.findall(r'(^[a-zA-Z0-9_.+-]+@[a-zA-Z0-9-]+\\.[a-zA-Z0-9-.]+)', str(row['text_original']))):\n",
    "        df.at[index, 'has_email'] = 1\n",
    "        \n",
    "    if any(re.findall(r'[0-9]{7,}', str(row['text_original']))):\n",
    "        df.at[index, 'has_phone'] = 1\n",
    "\n",
    "df.head()"
   ]
  },
  {
   "cell_type": "code",
   "execution_count": 7,
   "metadata": {},
   "outputs": [
    {
     "name": "stdout",
     "output_type": "stream",
     "text": [
      "24\n",
      "56\n"
     ]
    }
   ],
   "source": [
    "print(len(df[df.has_subscribe==1]))\n",
    "print(len(df[df.has_link==1]))"
   ]
  },
  {
   "cell_type": "code",
   "execution_count": 8,
   "metadata": {},
   "outputs": [
    {
     "data": {
      "text/html": [
       "<div>\n",
       "<style scoped>\n",
       "    .dataframe tbody tr th:only-of-type {\n",
       "        vertical-align: middle;\n",
       "    }\n",
       "\n",
       "    .dataframe tbody tr th {\n",
       "        vertical-align: top;\n",
       "    }\n",
       "\n",
       "    .dataframe thead th {\n",
       "        text-align: right;\n",
       "    }\n",
       "</style>\n",
       "<table border=\"1\" class=\"dataframe\">\n",
       "  <thead>\n",
       "    <tr style=\"text-align: right;\">\n",
       "      <th></th>\n",
       "      <th>id</th>\n",
       "      <th>video_id</th>\n",
       "      <th>comment_id</th>\n",
       "      <th>text_display</th>\n",
       "      <th>text_original</th>\n",
       "      <th>is_spam</th>\n",
       "      <th>checked</th>\n",
       "      <th>has_link</th>\n",
       "      <th>has_subscribe</th>\n",
       "      <th>has_email</th>\n",
       "      <th>has_phone</th>\n",
       "    </tr>\n",
       "  </thead>\n",
       "  <tbody>\n",
       "    <tr>\n",
       "      <th>0</th>\n",
       "      <td>2</td>\n",
       "      <td>1z4ughaHFj4</td>\n",
       "      <td>UgyOqRur7XVuSZsC-uN4AaABAg</td>\n",
       "      <td>&lt;a href=\"https://youtu.be/9XHO4W7_4UI\"&gt;https:/...</td>\n",
       "      <td>https://youtu.be/9XHO4W7_4UI</td>\n",
       "      <td>1</td>\n",
       "      <td>1</td>\n",
       "      <td>1</td>\n",
       "      <td>0</td>\n",
       "      <td>0</td>\n",
       "      <td>0</td>\n",
       "    </tr>\n",
       "    <tr>\n",
       "      <th>11</th>\n",
       "      <td>34</td>\n",
       "      <td>1z4ughaHFj4</td>\n",
       "      <td>UgxqFuEF4dq-O-co29l4AaABAg</td>\n",
       "      <td>එ බන් උබලත් කැමතිද ගෙදට්ට වෙලාම ඔන්ලයින් සල්ලි...</td>\n",
       "      <td>එ බන් උබලත් කැමතිද ගෙදට්ට වෙලාම ඔන්ලයින් සල්ලි...</td>\n",
       "      <td>1</td>\n",
       "      <td>1</td>\n",
       "      <td>1</td>\n",
       "      <td>0</td>\n",
       "      <td>0</td>\n",
       "      <td>0</td>\n",
       "    </tr>\n",
       "    <tr>\n",
       "      <th>17</th>\n",
       "      <td>47</td>\n",
       "      <td>1z4ughaHFj4</td>\n",
       "      <td>UgyQK1eOsykUCv9M-vt4AaABAg</td>\n",
       "      <td>මේකෙ 8d audio එක ඕනෙනම් මේකට like කරන්න</td>\n",
       "      <td>මේකෙ 8d audio එක ඕනෙනම් මේකට like කරන්න</td>\n",
       "      <td>1</td>\n",
       "      <td>1</td>\n",
       "      <td>0</td>\n",
       "      <td>0</td>\n",
       "      <td>0</td>\n",
       "      <td>0</td>\n",
       "    </tr>\n",
       "    <tr>\n",
       "      <th>18</th>\n",
       "      <td>48</td>\n",
       "      <td>1z4ughaHFj4</td>\n",
       "      <td>UgwJTTbEBXvWaclbKzB4AaABAg</td>\n",
       "      <td>&lt;a href=\"https://gokano.com/ref/IBmbOvZSMRoJ0x...</td>\n",
       "      <td>https://gokano.com/ref/IBmbOvZSMRoJ0x9ZwAFQXIvM</td>\n",
       "      <td>1</td>\n",
       "      <td>1</td>\n",
       "      <td>1</td>\n",
       "      <td>0</td>\n",
       "      <td>0</td>\n",
       "      <td>0</td>\n",
       "    </tr>\n",
       "    <tr>\n",
       "      <th>22</th>\n",
       "      <td>56</td>\n",
       "      <td>1z4ughaHFj4</td>\n",
       "      <td>UgzUXOYNVxbGLLTjw5x4AaABAg</td>\n",
       "      <td>&lt;a href=\"https://youtu.be/aXrFxHE8s90\"&gt;https:/...</td>\n",
       "      <td>https://youtu.be/aXrFxHE8s90</td>\n",
       "      <td>1</td>\n",
       "      <td>1</td>\n",
       "      <td>1</td>\n",
       "      <td>0</td>\n",
       "      <td>0</td>\n",
       "      <td>0</td>\n",
       "    </tr>\n",
       "  </tbody>\n",
       "</table>\n",
       "</div>"
      ],
      "text/plain": [
       "    id     video_id                  comment_id  \\\n",
       "0    2  1z4ughaHFj4  UgyOqRur7XVuSZsC-uN4AaABAg   \n",
       "11  34  1z4ughaHFj4  UgxqFuEF4dq-O-co29l4AaABAg   \n",
       "17  47  1z4ughaHFj4  UgyQK1eOsykUCv9M-vt4AaABAg   \n",
       "18  48  1z4ughaHFj4  UgwJTTbEBXvWaclbKzB4AaABAg   \n",
       "22  56  1z4ughaHFj4  UgzUXOYNVxbGLLTjw5x4AaABAg   \n",
       "\n",
       "                                         text_display  \\\n",
       "0   <a href=\"https://youtu.be/9XHO4W7_4UI\">https:/...   \n",
       "11  එ බන් උබලත් කැමතිද ගෙදට්ට වෙලාම ඔන්ලයින් සල්ලි...   \n",
       "17            මේකෙ 8d audio එක ඕනෙනම් මේකට like කරන්න   \n",
       "18  <a href=\"https://gokano.com/ref/IBmbOvZSMRoJ0x...   \n",
       "22  <a href=\"https://youtu.be/aXrFxHE8s90\">https:/...   \n",
       "\n",
       "                                        text_original  is_spam  checked  \\\n",
       "0                        https://youtu.be/9XHO4W7_4UI        1        1   \n",
       "11  එ බන් උබලත් කැමතිද ගෙදට්ට වෙලාම ඔන්ලයින් සල්ලි...        1        1   \n",
       "17            මේකෙ 8d audio එක ඕනෙනම් මේකට like කරන්න        1        1   \n",
       "18    https://gokano.com/ref/IBmbOvZSMRoJ0x9ZwAFQXIvM        1        1   \n",
       "22                       https://youtu.be/aXrFxHE8s90        1        1   \n",
       "\n",
       "    has_link  has_subscribe  has_email  has_phone  \n",
       "0          1              0          0          0  \n",
       "11         1              0          0          0  \n",
       "17         0              0          0          0  \n",
       "18         1              0          0          0  \n",
       "22         1              0          0          0  "
      ]
     },
     "execution_count": 8,
     "metadata": {},
     "output_type": "execute_result"
    }
   ],
   "source": [
    "df.loc[df['is_spam']==1].head()"
   ]
  },
  {
   "cell_type": "code",
   "execution_count": 9,
   "metadata": {},
   "outputs": [
    {
     "data": {
      "text/plain": [
       "'Vodi free reload ❤❤❤????????\\n\\nලේසියෙන්ම Reload ගන්න පුලුවන් ඇප් එකක් තමා vodi කියන්නෙ. කරන්න තියෙන්නෙ මෙච්චරයි play story යෙන් vodi app එක ගන්න register වෙද්දි referral code එකට මතක ඇතුව NTM479  ගහන්න. ඊට පස්සෙ මට මැසේජ් එකක් දාන්න referral එක ගහල register උනු අය. points 40 අරන් දෙන්නම් මන් ඊට පස්සෙ.code එක ගැහුවේ නැත්තම් එන් නැ හොදේ.\\nDent වගේ invite කරන්න ඕන් නැ points හොයන්න.Ad තියෙනව බලන්න.ඒවයින් පොඉන්ට් හොයන්න පුලුවන්. \\nAdd උනු අයට call අරන් points හොයන්නත් පුලුවන් ලේසියෙන්ම (ඇඩ් උනු අයගේ group හදල තියෙන්නෙ ඒකට) .... call ගත්තට සල්ලි කැපෙන් නෑ \\nCall එක තප්.3 වගේ තියල කට් කරාම හරි...එක call එකකට points 3 ගානෙ එනවා.\\nඑහෙම එකතු කරල reload ගන්න පුලුවන් \\u2063ලේසියෙන්ම...\\n\\n????????????????????????????????????????????????????????????????????????????????????\\nDead heart'"
      ]
     },
     "execution_count": 9,
     "metadata": {},
     "output_type": "execute_result"
    }
   ],
   "source": [
    "df.loc[df['is_spam']==1].iloc[10]['text_original']"
   ]
  },
  {
   "cell_type": "code",
   "execution_count": 10,
   "metadata": {},
   "outputs": [
    {
     "data": {
      "text/html": [
       "<div>\n",
       "<style scoped>\n",
       "    .dataframe tbody tr th:only-of-type {\n",
       "        vertical-align: middle;\n",
       "    }\n",
       "\n",
       "    .dataframe tbody tr th {\n",
       "        vertical-align: top;\n",
       "    }\n",
       "\n",
       "    .dataframe thead th {\n",
       "        text-align: right;\n",
       "    }\n",
       "</style>\n",
       "<table border=\"1\" class=\"dataframe\">\n",
       "  <thead>\n",
       "    <tr style=\"text-align: right;\">\n",
       "      <th></th>\n",
       "      <th>has_link</th>\n",
       "      <th>has_subscribe</th>\n",
       "      <th>has_email</th>\n",
       "      <th>has_phone</th>\n",
       "    </tr>\n",
       "  </thead>\n",
       "  <tbody>\n",
       "    <tr>\n",
       "      <th>0</th>\n",
       "      <td>1</td>\n",
       "      <td>0</td>\n",
       "      <td>0</td>\n",
       "      <td>0</td>\n",
       "    </tr>\n",
       "    <tr>\n",
       "      <th>1</th>\n",
       "      <td>0</td>\n",
       "      <td>0</td>\n",
       "      <td>0</td>\n",
       "      <td>0</td>\n",
       "    </tr>\n",
       "    <tr>\n",
       "      <th>2</th>\n",
       "      <td>0</td>\n",
       "      <td>0</td>\n",
       "      <td>0</td>\n",
       "      <td>0</td>\n",
       "    </tr>\n",
       "    <tr>\n",
       "      <th>3</th>\n",
       "      <td>0</td>\n",
       "      <td>0</td>\n",
       "      <td>0</td>\n",
       "      <td>0</td>\n",
       "    </tr>\n",
       "    <tr>\n",
       "      <th>4</th>\n",
       "      <td>0</td>\n",
       "      <td>0</td>\n",
       "      <td>0</td>\n",
       "      <td>0</td>\n",
       "    </tr>\n",
       "  </tbody>\n",
       "</table>\n",
       "</div>"
      ],
      "text/plain": [
       "   has_link  has_subscribe  has_email  has_phone\n",
       "0         1              0          0          0\n",
       "1         0              0          0          0\n",
       "2         0              0          0          0\n",
       "3         0              0          0          0\n",
       "4         0              0          0          0"
      ]
     },
     "execution_count": 10,
     "metadata": {},
     "output_type": "execute_result"
    }
   ],
   "source": [
    "X = df[['has_link', 'has_subscribe', 'has_email', 'has_phone']]\n",
    "y = df['is_spam']\n",
    "X.head()"
   ]
  },
  {
   "cell_type": "code",
   "execution_count": 11,
   "metadata": {},
   "outputs": [
    {
     "data": {
      "text/plain": [
       "GaussianNB(priors=None, var_smoothing=1e-09)"
      ]
     },
     "execution_count": 11,
     "metadata": {},
     "output_type": "execute_result"
    }
   ],
   "source": [
    "x_train, x_test, y_train, y_test = train_test_split(X, y, test_size=0.2, random_state=4)\n",
    "gnb = GaussianNB()\n",
    "gnb.fit(x_train, y_train)"
   ]
  },
  {
   "cell_type": "code",
   "execution_count": 12,
   "metadata": {},
   "outputs": [
    {
     "data": {
      "text/plain": [
       "array([0, 0, 0, 0, 0, 0, 1, 0, 0, 0, 0, 0, 0, 0, 0, 0, 0, 0, 0, 1, 0, 0,\n",
       "       0, 0, 0, 0, 0, 0, 0, 0, 0, 0, 0, 0, 0, 0, 0, 0, 0, 0, 0, 0, 0, 0,\n",
       "       0, 0, 0, 0, 0, 0, 0, 0, 0, 0, 0, 0, 1, 0, 1, 0, 0, 0, 0, 1, 0, 0,\n",
       "       0, 0, 0, 0, 0, 0, 0, 0, 0, 0, 0, 0, 0, 0, 0, 0, 1, 0, 0, 0, 0, 0,\n",
       "       0, 0, 0, 0, 0, 0, 1, 0, 0, 0, 0, 0, 0, 0, 0, 0, 0, 0, 0, 1, 0, 0,\n",
       "       0, 0, 0, 1, 0, 0, 0, 0, 0, 0, 0, 0, 0, 0, 1, 0, 0, 0, 1, 0, 0, 0,\n",
       "       0, 0, 0, 0, 0, 1, 0, 0, 0, 0, 0, 0, 0, 0, 0, 0, 0, 0, 0, 0, 1, 0,\n",
       "       0, 0, 0, 0, 0, 0, 0, 0, 0, 0, 0, 0, 0, 1, 0, 0, 0, 0, 0, 0, 0, 0,\n",
       "       1, 0, 0], dtype=int64)"
      ]
     },
     "execution_count": 12,
     "metadata": {},
     "output_type": "execute_result"
    }
   ],
   "source": [
    "pred = gnb.predict(x_test)\n",
    "pred"
   ]
  },
  {
   "cell_type": "code",
   "execution_count": 13,
   "metadata": {},
   "outputs": [
    {
     "data": {
      "text/plain": [
       "array([0, 0, 0, 0, 0, 0, 1, 0, 0, 0, 0, 0, 0, 0, 0, 0, 0, 0, 0, 1, 0, 0,\n",
       "       0, 0, 0, 0, 0, 0, 0, 0, 0, 0, 0, 0, 0, 0, 0, 0, 0, 0, 0, 0, 0, 0,\n",
       "       0, 0, 0, 1, 0, 0, 0, 0, 0, 0, 0, 0, 1, 0, 1, 0, 0, 0, 0, 1, 0, 0,\n",
       "       0, 0, 0, 0, 0, 0, 0, 0, 0, 0, 0, 0, 0, 0, 0, 0, 1, 0, 0, 0, 0, 0,\n",
       "       0, 0, 0, 0, 0, 1, 1, 0, 0, 0, 0, 0, 0, 0, 0, 0, 0, 0, 0, 1, 0, 0,\n",
       "       1, 0, 0, 1, 0, 0, 0, 0, 0, 0, 0, 0, 0, 0, 1, 0, 0, 0, 1, 0, 0, 0,\n",
       "       0, 0, 0, 0, 0, 0, 0, 0, 0, 0, 0, 0, 1, 0, 0, 0, 0, 0, 0, 0, 1, 1,\n",
       "       0, 0, 0, 0, 0, 0, 0, 0, 1, 0, 0, 0, 0, 1, 0, 0, 0, 0, 0, 0, 0, 0,\n",
       "       1, 0, 0], dtype=int64)"
      ]
     },
     "execution_count": 13,
     "metadata": {},
     "output_type": "execute_result"
    }
   ],
   "source": [
    "actual = np.array(y_test)\n",
    "actual"
   ]
  },
  {
   "cell_type": "code",
   "execution_count": 14,
   "metadata": {},
   "outputs": [
    {
     "data": {
      "text/plain": [
       "172"
      ]
     },
     "execution_count": 14,
     "metadata": {},
     "output_type": "execute_result"
    }
   ],
   "source": [
    "correct_guesses = 0;\n",
    "for i in range(0, len(pred)):\n",
    "    if actual[i] == pred[i]:\n",
    "        correct_guesses += 1\n",
    "\n",
    "correct_guesses"
   ]
  },
  {
   "cell_type": "code",
   "execution_count": 15,
   "metadata": {},
   "outputs": [
    {
     "data": {
      "text/plain": [
       "179"
      ]
     },
     "execution_count": 15,
     "metadata": {},
     "output_type": "execute_result"
    }
   ],
   "source": [
    "len(pred)"
   ]
  },
  {
   "cell_type": "code",
   "execution_count": 16,
   "metadata": {},
   "outputs": [
    {
     "data": {
      "text/plain": [
       "0.9608938547486033"
      ]
     },
     "execution_count": 16,
     "metadata": {},
     "output_type": "execute_result"
    }
   ],
   "source": [
    "accuracy = 172/179.0\n",
    "accuracy"
   ]
  },
  {
   "cell_type": "code",
   "execution_count": 17,
   "metadata": {},
   "outputs": [
    {
     "data": {
      "text/plain": [
       "0.9608938547486033"
      ]
     },
     "execution_count": 17,
     "metadata": {},
     "output_type": "execute_result"
    }
   ],
   "source": [
    "accuracy_score(y_test, pred)"
   ]
  }
 ],
 "metadata": {
  "kernelspec": {
   "display_name": "Python 3",
   "language": "python",
   "name": "python3"
  },
  "language_info": {
   "codemirror_mode": {
    "name": "ipython",
    "version": 3
   },
   "file_extension": ".py",
   "mimetype": "text/x-python",
   "name": "python",
   "nbconvert_exporter": "python",
   "pygments_lexer": "ipython3",
   "version": "3.7.3"
  }
 },
 "nbformat": 4,
 "nbformat_minor": 2
}
